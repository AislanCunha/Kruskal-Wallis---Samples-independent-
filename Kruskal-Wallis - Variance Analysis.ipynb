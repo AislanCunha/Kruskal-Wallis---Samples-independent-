{
 "cells": [
  {
   "cell_type": "markdown",
   "id": "8a352c35",
   "metadata": {},
   "source": [
    "# Kruskal-Wallis - Samples independent, Non-normal, Non-homoscedasticity"
   ]
  },
  {
   "cell_type": "markdown",
   "id": "0c4d3411",
   "metadata": {},
   "source": [
    "### First - Import the libraries"
   ]
  },
  {
   "cell_type": "code",
   "execution_count": 1,
   "id": "572d7f98",
   "metadata": {},
   "outputs": [],
   "source": [
    "import scipy.stats as stats\n",
    "import pandas as pd\n",
    "import numpy as np\n",
    "from scipy.stats import bartlett"
   ]
  },
  {
   "cell_type": "markdown",
   "id": "b3b7ea99",
   "metadata": {},
   "source": [
    "### Second - import the data"
   ]
  },
  {
   "cell_type": "code",
   "execution_count": 2,
   "id": "95fddbf5",
   "metadata": {},
   "outputs": [
    {
     "name": "stdout",
     "output_type": "stream",
     "text": [
      "     A   B    C    D     E\n",
      "0   12  50  104  256  1002\n",
      "1   13  50  101  256  1002\n",
      "2   12  50  109  255  1002\n",
      "3   13  51  110  250  1003\n",
      "4   13  51  100  255  1000\n",
      "..  ..  ..  ...  ...   ...\n",
      "95  11  50  100  252  1001\n",
      "96  12  51  109  253  1002\n",
      "97  14  50  108  253  1001\n",
      "98  11  50  103  250  1002\n",
      "99  14  50  104  251  1001\n",
      "\n",
      "[100 rows x 5 columns]\n"
     ]
    }
   ],
   "source": [
    "df = pd.read_csv('Kruskal-Wallis_independet_NNormal_Nhomo.csv')\n",
    "print (df)"
   ]
  },
  {
   "cell_type": "markdown",
   "id": "730628c5",
   "metadata": {},
   "source": [
    "### Third - Test the Normality of samples"
   ]
  },
  {
   "cell_type": "code",
   "execution_count": 3,
   "id": "68580c36",
   "metadata": {},
   "outputs": [],
   "source": [
    "a = df['A']\n",
    "b = df['B']\n",
    "c = df['C']\n",
    "d = df['D']\n",
    "e = df['E']"
   ]
  },
  {
   "cell_type": "markdown",
   "id": "654939a4",
   "metadata": {},
   "source": [
    "### Column A"
   ]
  },
  {
   "cell_type": "code",
   "execution_count": 4,
   "id": "442ef898",
   "metadata": {},
   "outputs": [
    {
     "name": "stdout",
     "output_type": "stream",
     "text": [
      "12.69\n",
      "1.6167560112769035\n"
     ]
    }
   ],
   "source": [
    "average_a = np.mean(a)\n",
    "print(average_a)\n",
    "standard_deviation_a = np.std(a-1)\n",
    "print(standard_deviation_a)"
   ]
  },
  {
   "cell_type": "code",
   "execution_count": 5,
   "id": "3eb2f599",
   "metadata": {},
   "outputs": [
    {
     "name": "stdout",
     "output_type": "stream",
     "text": [
      "0.171105912863719\n",
      "0.004977817046637578\n"
     ]
    }
   ],
   "source": [
    "test_value_a, p_value_a = stats.kstest(a, cdf='norm', args=(average_a, standard_deviation_a), N=len(a))\n",
    "print(test_value_a)\n",
    "print(p_value_a)"
   ]
  },
  {
   "cell_type": "code",
   "execution_count": 6,
   "id": "34a14e17",
   "metadata": {},
   "outputs": [
    {
     "name": "stdout",
     "output_type": "stream",
     "text": [
      "The test presented with 95% confidence that the data did not behave like a normal distribution.\n"
     ]
    }
   ],
   "source": [
    "if p_value_a > 0.05:\n",
    "    print(\"The test presented with 95% confidence that the data behaved like a normal distribution.\")\n",
    "else:\n",
    "    print(\"The test presented with 95% confidence that the data did not behave like a normal distribution.\")"
   ]
  },
  {
   "cell_type": "markdown",
   "id": "15e158ed",
   "metadata": {},
   "source": [
    "### Column B"
   ]
  },
  {
   "cell_type": "code",
   "execution_count": 7,
   "id": "189c2e49",
   "metadata": {},
   "outputs": [
    {
     "name": "stdout",
     "output_type": "stream",
     "text": [
      "50.5\n",
      "0.5\n"
     ]
    }
   ],
   "source": [
    "average_b = np.mean(b)\n",
    "print(average_b)\n",
    "standard_deviation_b = np.std(b-1)\n",
    "print(standard_deviation_b)"
   ]
  },
  {
   "cell_type": "code",
   "execution_count": 8,
   "id": "5c014cb0",
   "metadata": {},
   "outputs": [
    {
     "name": "stdout",
     "output_type": "stream",
     "text": [
      "0.3413447460685429\n",
      "6.645269104308234e-11\n"
     ]
    }
   ],
   "source": [
    "test_value_b, p_value_b = stats.kstest(b, cdf='norm', args=(average_b, standard_deviation_b), N=len(b))\n",
    "print(test_value_b)\n",
    "print(p_value_b)"
   ]
  },
  {
   "cell_type": "code",
   "execution_count": 9,
   "id": "26741b6f",
   "metadata": {},
   "outputs": [
    {
     "name": "stdout",
     "output_type": "stream",
     "text": [
      "The test presented with 95% confidence that the data did not behave like a normal distribution.\n"
     ]
    }
   ],
   "source": [
    "if p_value_b > 0.05:\n",
    "    print(\"The test presented with 95% confidence that the data behaved like a normal distribution.\")\n",
    "else:\n",
    "    print(\"The test presented with 95% confidence that the data did not behave like a normal distribution.\")"
   ]
  },
  {
   "cell_type": "markdown",
   "id": "c5e3398e",
   "metadata": {},
   "source": [
    "### Column C"
   ]
  },
  {
   "cell_type": "code",
   "execution_count": 10,
   "id": "45e63aa8",
   "metadata": {},
   "outputs": [
    {
     "name": "stdout",
     "output_type": "stream",
     "text": [
      "105.2\n",
      "3.3436506994600976\n"
     ]
    }
   ],
   "source": [
    "average_c = np.mean(c)\n",
    "print(average_c)\n",
    "standard_deviation_c = np.std(c-1)\n",
    "print(standard_deviation_c)"
   ]
  },
  {
   "cell_type": "code",
   "execution_count": 12,
   "id": "02aef860",
   "metadata": {},
   "outputs": [
    {
     "name": "stdout",
     "output_type": "stream",
     "text": [
      "0.16471919606500263\n",
      "0.00771247619986859\n"
     ]
    }
   ],
   "source": [
    "test_value_c, p_value_c = stats.kstest(c, cdf='norm', args=(average_c, standard_deviation_c), N=len(c))\n",
    "print(test_value_c)\n",
    "print(p_value_c)"
   ]
  },
  {
   "cell_type": "code",
   "execution_count": 13,
   "id": "50811db1",
   "metadata": {},
   "outputs": [
    {
     "name": "stdout",
     "output_type": "stream",
     "text": [
      "The test presented with 95% confidence that the data did not behave like a normal distribution.\n"
     ]
    }
   ],
   "source": [
    "if p_value_c > 0.05:\n",
    "    print(\"The test presented with 95% confidence that the data behaved like a normal distribution.\")\n",
    "else:\n",
    "    print(\"The test presented with 95% confidence that the data did not behave like a normal distribution.\")"
   ]
  },
  {
   "cell_type": "markdown",
   "id": "306c3155",
   "metadata": {},
   "source": [
    "### Column D"
   ]
  },
  {
   "cell_type": "code",
   "execution_count": 14,
   "id": "0951cc40",
   "metadata": {},
   "outputs": [
    {
     "name": "stdout",
     "output_type": "stream",
     "text": [
      "253.29\n",
      "2.1876699933947976\n"
     ]
    }
   ],
   "source": [
    "average_d = np.mean(d)\n",
    "print(average_d)\n",
    "standard_deviation_d = np.std(d-1)\n",
    "print(standard_deviation_d)"
   ]
  },
  {
   "cell_type": "code",
   "execution_count": 16,
   "id": "f29bf69e",
   "metadata": {},
   "outputs": [
    {
     "name": "stdout",
     "output_type": "stream",
     "text": [
      "0.16272976143760798\n",
      "0.00880899372032895\n"
     ]
    }
   ],
   "source": [
    "test_value_d, p_value_d = stats.kstest(d, cdf='norm', args=(average_d, standard_deviation_d), N=len(d))\n",
    "print(test_value_d)\n",
    "print(p_value_d)"
   ]
  },
  {
   "cell_type": "code",
   "execution_count": 17,
   "id": "01601d9d",
   "metadata": {},
   "outputs": [
    {
     "name": "stdout",
     "output_type": "stream",
     "text": [
      "The test presented with 95% confidence that the data did not behave like a normal distribution.\n"
     ]
    }
   ],
   "source": [
    "if p_value_d > 0.05:\n",
    "    print(\"The test presented with 95% confidence that the data behaved like a normal distribution.\")\n",
    "else:\n",
    "    print(\"The test presented with 95% confidence that the data did not behave like a normal distribution.\")"
   ]
  },
  {
   "cell_type": "markdown",
   "id": "12b25a73",
   "metadata": {},
   "source": [
    "### Column E"
   ]
  },
  {
   "cell_type": "code",
   "execution_count": 18,
   "id": "d3de99b3",
   "metadata": {},
   "outputs": [
    {
     "name": "stdout",
     "output_type": "stream",
     "text": [
      "1001.43\n",
      "1.176902714755982\n"
     ]
    }
   ],
   "source": [
    "average_e = np.mean(e)\n",
    "print(average_e)\n",
    "standard_deviation_e = np.std(e-1)\n",
    "print(standard_deviation_e)"
   ]
  },
  {
   "cell_type": "code",
   "execution_count": 19,
   "id": "3e046506",
   "metadata": {},
   "outputs": [
    {
     "name": "stdout",
     "output_type": "stream",
     "text": [
      "0.19782719490012346\n",
      "0.0006627743351410587\n"
     ]
    }
   ],
   "source": [
    "test_value_e, p_value_e = stats.kstest(e, cdf='norm', args=(average_e, standard_deviation_e), N=len(e))\n",
    "print(test_value_e)\n",
    "print(p_value_e)"
   ]
  },
  {
   "cell_type": "code",
   "execution_count": 20,
   "id": "d55233bc",
   "metadata": {},
   "outputs": [
    {
     "name": "stdout",
     "output_type": "stream",
     "text": [
      "The test presented with 95% confidence that the data did not behave like a normal distribution.\n"
     ]
    }
   ],
   "source": [
    "if p_value_e > 0.05:\n",
    "    print(\"The test presented with 95% confidence that the data behaved like a normal distribution.\")\n",
    "else:\n",
    "    print(\"The test presented with 95% confidence that the data did not behave like a normal distribution.\")"
   ]
  },
  {
   "cell_type": "markdown",
   "id": "216f3647",
   "metadata": {},
   "source": [
    "### Fourth - Do the Bartlett test to Homoscedasticity and Non-Homoscedasticity"
   ]
  },
  {
   "cell_type": "code",
   "execution_count": 21,
   "id": "f2ddd54b",
   "metadata": {},
   "outputs": [
    {
     "name": "stdout",
     "output_type": "stream",
     "text": [
      "The test value Wilcoxon to samples related = 306.13712594018585\n",
      "The p_value Wilcoxon to samples related = 5.139037432286974e-65\n"
     ]
    }
   ],
   "source": [
    "res = stats.bartlett(a, b, c, d, e)\n",
    "print (\"The test value Wilcoxon to samples related = \" + str(res.statistic))\n",
    "print (\"The p_value Wilcoxon to samples related = \" + str(res.pvalue))"
   ]
  },
  {
   "cell_type": "markdown",
   "id": "414dbe65",
   "metadata": {},
   "source": [
    "### Fifth - Kruskal-Wallis Variance Analysis"
   ]
  },
  {
   "cell_type": "code",
   "execution_count": 25,
   "id": "165b8932",
   "metadata": {},
   "outputs": [
    {
     "name": "stdout",
     "output_type": "stream",
     "text": [
      "The test value Kruskal Wallis to samples independent = 480.525060778235\n",
      "The p_value Kruskal Wallis to samples independent = 1.0909346158541378e-102\n"
     ]
    }
   ],
   "source": [
    "res = stats.kruskal(a, b, c, d, e,)\n",
    "print (\"The test value Kruskal Wallis to samples independent = \" + str(res.statistic))\n",
    "print (\"The p_value Kruskal Wallis to samples independent = \" + str(res.pvalue))"
   ]
  },
  {
   "cell_type": "markdown",
   "id": "719accbc",
   "metadata": {},
   "source": [
    "### Conclusion"
   ]
  },
  {
   "cell_type": "code",
   "execution_count": 28,
   "id": "f38c5b4e",
   "metadata": {},
   "outputs": [
    {
     "name": "stdout",
     "output_type": "stream",
     "text": [
      "The test presented with 95% confidence that the data behave with heteromogeneous variances, which demonstrate that the null hypothesis can be rejected and the alternative hypothesis accepted.\n"
     ]
    }
   ],
   "source": [
    "if res.pvalue > 0.05:\n",
    "    print(\"The test presented with 95% confidence that the data behave with homogeneous variances, which demonstrate that the null hypothesis can be accepted and the alternative hypothesis rejected.\")\n",
    "else:\n",
    "    print(\"The test presented with 95% confidence that the data behave with heteromogeneous variances, which demonstrate that the null hypothesis can be rejected and the alternative hypothesis accepted.\")"
   ]
  },
  {
   "cell_type": "code",
   "execution_count": null,
   "id": "ec8f3cf0",
   "metadata": {},
   "outputs": [],
   "source": []
  }
 ],
 "metadata": {
  "kernelspec": {
   "display_name": "Python 3 (ipykernel)",
   "language": "python",
   "name": "python3"
  },
  "language_info": {
   "codemirror_mode": {
    "name": "ipython",
    "version": 3
   },
   "file_extension": ".py",
   "mimetype": "text/x-python",
   "name": "python",
   "nbconvert_exporter": "python",
   "pygments_lexer": "ipython3",
   "version": "3.9.7"
  }
 },
 "nbformat": 4,
 "nbformat_minor": 5
}
